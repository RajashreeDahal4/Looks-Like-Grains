{
  "nbformat": 4,
  "nbformat_minor": 0,
  "metadata": {
    "colab": {
      "name": "Looks Like Grains.ipynb",
      "provenance": [],
      "collapsed_sections": [],
      "include_colab_link": true
    },
    "kernelspec": {
      "display_name": "Python 3",
      "name": "python3"
    },
    "language_info": {
      "name": "python"
    }
  },
  "cells": [
    {
      "cell_type": "markdown",
      "metadata": {
        "id": "view-in-github",
        "colab_type": "text"
      },
      "source": [
        "<a href=\"https://colab.research.google.com/github/RajashreeDahal4/Looks-Like-Grains/blob/main/Looks_Like_Grains.ipynb\" target=\"_parent\"><img src=\"https://colab.research.google.com/assets/colab-badge.svg\" alt=\"Open In Colab\"/></a>"
      ]
    },
    {
      "cell_type": "code",
      "metadata": {
        "id": "TznXlDh2Nymo"
      },
      "source": [
        "# !pip install tensorflow==2.4.1"
      ],
      "execution_count": null,
      "outputs": []
    },
    {
      "cell_type": "code",
      "metadata": {
        "id": "5ANcuX1T_wi2"
      },
      "source": [
        "import tensorflow as tf \n",
        "import numpy as np \n",
        "import pandas as pd \n",
        "import matplotlib.pyplot as plt \n",
        "import tensorflow as tf \n",
        "from tensorflow import keras \n",
        "from tensorflow.keras import layers\n",
        "from tensorflow.keras.layers import Dense, Conv2D, Reshape, Concatenate,MaxPooling2D, AveragePooling2D,Input, BatchNormalization, Activation, UpSampling2D, Concatenate, LeakyReLU,Reshape\n",
        "from tensorflow.keras.models import Model\n",
        "from tensorflow.keras.layers import GlobalAveragePooling2D,Multiply,SpatialDropout2D,Add,Input,Dropout\n",
        "from tensorflow.keras.optimizers import Adam, SGD\n",
        "import tensorflow_datasets as tfds\n",
        "from tensorflow.keras.applications.densenet import preprocess_input\n"
      ],
      "execution_count": null,
      "outputs": []
    },
    {
      "cell_type": "code",
      "metadata": {
        "id": "UEOTwszXQEr0",
        "colab": {
          "base_uri": "https://localhost:8080/"
        },
        "outputId": "fd2abf7e-42a3-4fa4-c58c-422aca43e35b"
      },
      "source": [
        "# model.summary()\n",
        "from google.colab import drive\n",
        "drive.mount('/content/drive')"
      ],
      "execution_count": null,
      "outputs": [
        {
          "output_type": "stream",
          "text": [
            "Mounted at /content/drive\n"
          ],
          "name": "stdout"
        }
      ]
    },
    {
      "cell_type": "code",
      "metadata": {
        "id": "H64tcEqfAj4C"
      },
      "source": [
        "IMG_SIZE = 224\n",
        "LBL = dict(zip(['B_BSMUT1', 'B_CLEV5B', 'B_DISTO', 'B_GRMEND', 'B_HDBARL',\n",
        "       'B_PICKLD', 'B_SKINED', 'B_SOUND', 'B_SPRTED', 'B_SPTMLD',\n",
        "       'O_GROAT', 'O_HDOATS', 'O_SEPAFF', 'O_SOUND', 'O_SPOTMA',\n",
        "       'WD_RADPODS', 'WD_RYEGRASS', 'WD_SPEARGRASS', 'WD_WILDOATS',\n",
        "       'W_DISTO', 'W_FLDFUN', 'W_INSDA2', 'W_PICKLE', 'W_SEVERE',\n",
        "       'W_SOUND', 'W_SPROUT', 'W_STAIND', 'W_WHITEG'], range(28)))\n",
        "cls_map = dict(zip(LBL.values(),LBL.keys()))"
      ],
      "execution_count": null,
      "outputs": []
    },
    {
      "cell_type": "code",
      "metadata": {
        "id": "oCTENcMZKv3B"
      },
      "source": [
        "import numpy as np\n",
        "from tensorflow.python.ops.numpy_ops import np_config\n",
        "np_config.enable_numpy_behavior()"
      ],
      "execution_count": null,
      "outputs": []
    },
    {
      "cell_type": "code",
      "metadata": {
        "id": "B0uR5FJR8Bhb"
      },
      "source": [
        "def augmentation(x):\n",
        "   x=tf.keras.preprocessing.image.random_rotation(x,30,row_axis=0,col_axis=1,channel_axis=2)#,channel_axis=2\n",
        "   x=tf.image.random_flip_left_right(x)\n",
        "   x=tf.keras.preprocessing.image.random_zoom(x,zoom_range=[0.9,0.9],row_axis=0,col_axis=1,channel_axis=2) #channel_axis=2\n",
        "   x=tf.keras.preprocessing.image.random_shift(x, wrg=0.1, hrg=0.1,row_axis=1,col_axis=1,channel_axis=2)\n",
        "   return x"
      ],
      "execution_count": null,
      "outputs": []
    },
    {
      "cell_type": "code",
      "metadata": {
        "id": "_GHGUOFf4_Ym"
      },
      "source": [
        "def tf_augmentation(image, label):\n",
        "  im_shape = image.shape\n",
        "  [image,] = tf.py_function(augmentation, [image], [tf.float32])\n",
        "  image.set_shape(im_shape)\n",
        "  return image, label"
      ],
      "execution_count": null,
      "outputs": []
    },
    {
      "cell_type": "code",
      "metadata": {
        "id": "MT_aTnWB3Is3"
      },
      "source": [
        "# def augmentation(x,y):\n",
        "#   x=tf.keras.preprocessing.image.random_rotation(x,30)  #,channel_axis=2\n",
        "#   x=tf.image.random_flip_left_right(x)\n",
        "#   # x=tf.keras.preprocessing.image.random_zoom(x,zoom_range=[0.3,0.3],channel_axis=2) #channel_axis=2\n",
        "#   x=tf.keras.preprocessing.image.random_shift(x, wrg=0.1, hrg=0.1)\n",
        "#   x=tf.keras.preprocessing.image.random_shear(x,3)  # afaile socheko hai 3 ko value\n",
        "#   x=tf.keras.layers.experimental.preprocessing.RandomFlip(x,'HORIZONTAL')\n",
        "#   return x,y"
      ],
      "execution_count": null,
      "outputs": []
    },
    {
      "cell_type": "code",
      "metadata": {
        "id": "jCwt_Y7GCJoE",
        "colab": {
          "base_uri": "https://localhost:8080/"
        },
        "outputId": "8b6a2ef7-1da1-4f6f-db1d-5b05a2289315"
      },
      "source": [
        "AUTOTUNE = tf.data.AUTOTUNE\n",
        "directory1 = '/content/drive/MyDrive/LOOK into grain /Train'\n",
        "directory2 = '/content/drive/MyDrive/LOOK into grain /Valid'\n",
        "train_dataset = tf.keras.preprocessing.image_dataset_from_directory(\n",
        "    directory1, labels='inferred', label_mode='categorical',\n",
        "    class_names=LBL.keys(), color_mode='rgb', batch_size=16, image_size=(224,\n",
        "    224), shuffle=True, seed=None, validation_split=0, subset=None,\n",
        "    interpolation='bilinear', follow_links=False)\n",
        "valid_dataset = tf.keras.preprocessing.image_dataset_from_directory(\n",
        "    directory2, labels='inferred', label_mode='categorical',\n",
        "    class_names=LBL.keys(), color_mode='rgb', batch_size=16, image_size=(224,\n",
        "    224), shuffle=True, seed=0, validation_split=None, subset=None,\n",
        "    interpolation='bilinear', follow_links=False)\n",
        "train_dataset= train_dataset.unbatch()\n",
        "\n",
        "train_dataset = train_dataset.map(tf_augmentation)\n",
        "train_dataset = train_dataset.batch(batch_size=16, drop_remainder=True)\n",
        "# train_dataset = train_dataset.map(lambda x, y: (data_augmentation(x, training=True), y), num_parallel_calls=AUTOTUNE)\n",
        "train_dataset = train_dataset.prefetch(tf.data.experimental.AUTOTUNE)\n",
        "# train_dataset= train_dataset.shuffle(1000)\n",
        "train_dataset=train_dataset.repeat()\n",
        "test_dataset =valid_dataset.repeat()"
      ],
      "execution_count": null,
      "outputs": [
        {
          "output_type": "stream",
          "text": [
            "Found 19182 files belonging to 28 classes.\n",
            "Found 7648 files belonging to 28 classes.\n"
          ],
          "name": "stdout"
        }
      ]
    },
    {
      "cell_type": "code",
      "metadata": {
        "id": "CV8p35gorPKv"
      },
      "source": [
        "from tensorflow.keras.callbacks import CSVLogger ,LearningRateScheduler,Callback\n",
        "class CustomLearningRateScheduler(tf.keras.callbacks.Callback):\n",
        "    def __init__(self, schedule):\n",
        "        super(CustomLearningRateScheduler, self).__init__()\n",
        "        self.schedule = schedule\n",
        "    def on_epoch_end(self, epoch, logs=None):\n",
        "        if not hasattr(self.model.optimizer, \"lr\"):\n",
        "            raise ValueError('Optimizer must have a \"lr\" attribute.')\n",
        "        lr = float(tf.keras.backend.get_value(self.model.optimizer.learning_rate))\n",
        "        scheduled_lr = self.schedule(epoch, lr)\n",
        "        tf.keras.backend.set_value(self.model.optimizer.lr, scheduled_lr)\n",
        "        print(\"\\nbatch %05d: Learning rate is %8f.\" % (epoch, scheduled_lr))\n",
        "def lr_scheduler(epoch,lr):\n",
        "      \n",
        "    #   if (i+13+12+6)> 30:\n",
        "    #     lr =0.00000025347102\n",
        "    #     return lr\n",
        "    lr = lr/1.25\n",
        "    print(lr)\n",
        "    return lr\n",
        "filepath = '/content/drive/MyDrive/classification/'\n",
        "Checkpoint = tf.keras.callbacks.ModelCheckpoint(\n",
        "    filepath, monitor='val_accuracy', verbose=0, save_best_only=True,\n",
        "    save_weights_only=False, mode='auto', save_freq='epoch',\n",
        ")"
      ],
      "execution_count": null,
      "outputs": []
    },
    {
      "cell_type": "code",
      "metadata": {
        "id": "Dg4fVtK1CNxc"
      },
      "source": [
        "NUM_CLASSES =28\n",
        "from tensorflow.keras.applications.efficientnet import EfficientNetB6\n",
        "input = Input((224,224,3))\n",
        "# input = tf.keras.layers.experimental.preprocessing.Rescaling(scale =1/255)(input)\n",
        "# model2 = EfficientNetB6(input_tensor=input,weights ='imagenet' ,include_top=False)\n",
        "# print(model2.summary())\n",
        "# model2.trainable=False\n",
        "# x = GlobalAveragePooling2D()(model2.output)\n",
        "# x = BatchNormalization()(x)\n",
        "# top_dropout_rate = 0.2\n",
        "# x = Dropout(top_dropout_rate, name=\"top_dropout\")(x)\n",
        "# # outputs = Dense(1024, activation=\"relu\"\")(x)\n",
        "# # x = BatchNormalization()(x)\n",
        "# # x = Dropout(top_dropout_rate)(x)\n",
        "# outputs = Dense(NUM_CLASSES, activation=\"softmax\", name=\"pred\")(x)\n",
        "# model = Model(input, outputs, name=\"EfficientNet\")"
      ],
      "execution_count": null,
      "outputs": []
    },
    {
      "cell_type": "code",
      "metadata": {
        "id": "ZZRQ7d9BNTFb"
      },
      "source": [
        "input = Input((224,224,3))\n",
        "model2 = tf.keras.applications.efficientnet.EfficientNetB6(\n",
        "    include_top=False, weights='imagenet', input_tensor=input\n",
        ")\n",
        "print(model2.summary())\n",
        "# model2 = tf.keras.applications.densenet.DenseNet201(\n",
        "#     include_top=False, weights='imagenet', input_tensor=input\n",
        "# )\n",
        "model2.trainable=False\n",
        "names =['block2a_expand_activation','block2b_expand_activation','block2f_activation','block3b_expand_activation','block3f_activation','block4a_expand_activation','block4d_activation','block4g_activation','block6a_expand_activation','block5c_activation','block5h_expand_activation','block6f_activation','block6k_activation','top_activation']\n",
        "\n",
        "\n",
        "for i,name in enumerate(names):\n",
        "    outputs = model2.get_layer(name).output\n",
        "    print(outputs.shape)\n",
        "    x = GlobalAveragePooling2D()(outputs)\n",
        "    x = BatchNormalization()(x)\n",
        "    if i==0:\n",
        "        y=x\n",
        "    else:\n",
        "        y=Concatenate()([x,y])\n",
        "        print(y.shape)\n",
        "top_dropout_rate = 0.5\n",
        "# x = BatchNormalization()(y)\n",
        "x = Dropout(top_dropout_rate, name=\"top_dropout\")(y)\n",
        "outputs = Dense(NUM_CLASSES, activation=\"softmax\", name=\"pred\")(x)\n",
        "\n",
        "model =Model(input,outputs)\n",
        "model.summary()"
      ],
      "execution_count": null,
      "outputs": []
    },
    {
      "cell_type": "code",
      "metadata": {
        "id": "Du_kuTza1qc7"
      },
      "source": [
        "# model=tf.keras.models.load_model('/content/drive/MyDrive/classification')"
      ],
      "execution_count": null,
      "outputs": []
    },
    {
      "cell_type": "code",
      "metadata": {
        "id": "VD3vQiPSKqxb"
      },
      "source": [
        "metrics = tf.keras.metrics.Accuracy(name='accuracy')\n",
        "def custom_metrics(y_true,y_pred):\n",
        "  # print(y_true)\n",
        "  def weightage(j):\n",
        "    if j in [7,13,24]:\n",
        "      return 2.98\n",
        "    return 0.004\n",
        "  NUM_CLASSES=28\n",
        "  accuracy=[]\n",
        "  for i in range(28):\n",
        "    y_pred1 = tf.math.argmax(y_pred, axis=-1)\n",
        "    # print(y_pred1)\n",
        "    y_pred1 = tf.one_hot(y_pred1,NUM_CLASSES,axis =-1)\n",
        "    # print(y_pred1)\n",
        "    y_pred1 = y_pred1[:,i]\n",
        "    # print(y_pred1)\n",
        "    # y_pred1 = tf.reshape(y_pred1,[-1,NUM_CLASSES])\n",
        "    y_true1 = y_true[:,i]\n",
        "    weig=weightage(i)\n",
        "    acc = metrics(y_true1,y_pred1,sample_weight=weig)\n",
        "    accuracy.append(acc)\n",
        "  # print(\"Checking the shape of accuracy\")\n",
        "  # print(\"NOw reducing the sum\")\n",
        "  accuracy=tf.reduce_sum(accuracy)/28\n",
        "  return accuracy"
      ],
      "execution_count": null,
      "outputs": []
    },
    {
      "cell_type": "code",
      "metadata": {
        "id": "tAa8OZILbsiO",
        "colab": {
          "base_uri": "https://localhost:8080/"
        },
        "outputId": "152b223c-426c-4238-9941-54283669e698"
      },
      "source": [
        "train_steps = 19182//16\n",
        "valid_steps = 7648//16\n",
        "optimizer = tf.keras.optimizers.Adam(learning_rate=0.00005)\n",
        "model.compile(optimizer=optimizer, loss=\"categorical_crossentropy\", metrics=[\"accuracy\",custom_metrics])\n",
        "model.fit(train_dataset,epochs =20,steps_per_epoch=train_steps,validation_data=test_dataset,validation_steps=valid_steps,callbacks=[Checkpoint])"
      ],
      "execution_count": null,
      "outputs": [
        {
          "output_type": "stream",
          "text": [
            "Epoch 1/20\n",
            "1198/1198 [==============================] - 8636s 7s/step - loss: 1.7324 - accuracy: 0.5592 - custom_metrics: 0.8411 - val_loss: 7.6086 - val_accuracy: 0.2501 - val_custom_metrics: 0.8431\n"
          ],
          "name": "stdout"
        },
        {
          "output_type": "stream",
          "text": [
            "/usr/local/lib/python3.7/dist-packages/tensorflow/python/keras/utils/generic_utils.py:497: CustomMaskWarning: Custom mask layers require a config and must override get_config. When loading, the custom mask layer must be passed to the custom_objects argument.\n",
            "  category=CustomMaskWarning)\n"
          ],
          "name": "stderr"
        },
        {
          "output_type": "stream",
          "text": [
            "INFO:tensorflow:Assets written to: /content/drive/MyDrive/classification/assets\n",
            "Epoch 2/20\n",
            "1198/1198 [==============================] - 4241s 4s/step - loss: 1.1639 - accuracy: 0.6813 - custom_metrics: 0.8429 - val_loss: 8.4241 - val_accuracy: 0.2308 - val_custom_metrics: 0.8480\n",
            "Epoch 3/20\n",
            " 198/1198 [===>..........................] - ETA: 57:51 - loss: 1.0485 - accuracy: 0.7058 - custom_metrics: 0.8412"
          ],
          "name": "stdout"
        }
      ]
    },
    {
      "cell_type": "code",
      "metadata": {
        "id": "sRtvtKm540eF"
      },
      "source": [
        "model =Model(input,outputs)#this was the best\n",
        "    inputs = layers.Input(shape=(IMG_SIZE, IMG_SIZE, 3))\n",
        "    model = DenseNet201(include_top=False, input_tensor=inputs, weights=\"imagenet\")\n",
        "    model.trainable = False\n",
        "    names =['pool2_relu','pool3_conv','pool4_relu','relu']\n",
        "    for i,name in enumerate(names):\n",
        "        output = model.get_layer(name).output\n",
        "        x = layers.GlobalAveragePooling2D()(output)\n",
        "        if i==0:\n",
        "            y=x\n",
        "        else:\n",
        "            y=layers.Concatenate()([x,y])\n",
        "    top_dropout_rate = 0.2\n",
        "    x  = layers.BatchNormalization()(y)\n",
        "    x = layers.Dropout(top_dropout_rate, name=\"top_dropout\")(x)\n",
        "    outputs = layers.Dense(NUM_CLASSES, activation=\"softmax\", name=\"pred\")(x)\n",
        "    model = tf.keras.Model(inputs, outputs, name=\"DenseNet201\")"
      ],
      "execution_count": null,
      "outputs": []
    },
    {
      "cell_type": "code",
      "metadata": {
        "id": "3zyrDnK6Pv7H"
      },
      "source": [
        "train_steps = 19182//16\n",
        "valid_steps = 7648//16\n",
        "optimizer = tf.keras.optimizers.Adam(learning_rate=2e-4)\n",
        "model.compile(optimizer=optimizer, loss=\"categorical_crossentropy\", metrics=[\"accuracy\"])\n",
        "model.fit(train_dataset,epochs =10,steps_per_epoch=train_steps,validation_data=test_dataset,validation_steps=valid_steps,callbacks=[Checkpoint])"
      ],
      "execution_count": null,
      "outputs": []
    },
    {
      "cell_type": "code",
      "metadata": {
        "id": "gnqCktK4YOGi"
      },
      "source": [
        "model2 = tf.keras.applications.efficientnet.EfficientNetB6(\n",
        "    include_top=False, weights='imagenet', input_tensor=input\n",
        ")\n",
        "# print(model2.summary())\n",
        "# model2 = tf.keras.applications.densenet.DenseNet201(\n",
        "#     include_top=False, weights='imagenet', input_tensor=input\n",
        "# )\n",
        "model2.trainable=False\n",
        "names =['block2a_expand_activation','block3a_expand_activation','block4a_expand_activation','block6a_expand_activation','block6k_activation','top_activation']\n",
        "for i,name in enumerate(names):\n",
        "    outputs = model2.get_layer(name).output\n",
        "    x = GlobalAveragePooling2D()(outputs)\n",
        "    x = BatchNormalization()(x)\n",
        "    top_dropout_rate = 0.2\n",
        "    x = Dropout(top_dropout_rate)(x)\n",
        "    x= Dense(NUM_CLASSES, activation=\"softmax\")(x)\n",
        "    x =Reshape((NUM_CLASSES,1))(x)\n",
        "    if i==0:\n",
        "        y=x\n",
        "    else:\n",
        "      y=Concatenate()([x,y])\n",
        "y=tf.keras.layers.Lambda(lambda x:(tf.reduce_sum(x,axis=2))/3.0)(y)\n",
        "y=tf.keras.layers.Flatten()(y)\n",
        "model =Model(input,outputs=y)\n",
        "\n",
        "model.summary()"
      ],
      "execution_count": null,
      "outputs": []
    },
    {
      "cell_type": "code",
      "metadata": {
        "id": "jYqvkOSxkgea"
      },
      "source": [
        "train_steps = 19182//16\n",
        "valid_steps = 7648//16\n",
        "ptimizer = tf.keras.optimizers.Adam(learning_rate=.001)\n",
        "model.compile(optimizer=optimizer, loss=\"categorical_crossentropy\", metrics=[\"accuracy\"])\n",
        "model.fit(train_dataset,epochs =10,steps_per_epoch=train_steps,validation_data=test_dataset,validation_steps=valid_steps,callbacks=[Checkpoint])"
      ],
      "execution_count": null,
      "outputs": []
    },
    {
      "cell_type": "code",
      "metadata": {
        "id": "sraVILBepA1V"
      },
      "source": [
        "model2 = tf.keras.applications.efficientnet.EfficientNetB6(\n",
        "    include_top=False, weights='imagenet', input_tensor=input\n",
        ")\n",
        "model2.trainable =True\n",
        "x = GlobalAveragePooling2D()(model2.output)\n",
        "top_dropout_rate = 0.2\n",
        "x = Dropout(top_dropout_rate, name=\"top_dropout\")(x)\n",
        "outputs = Dense(NUM_CLASSES, activation=\"softmax\", name=\"pred\")(x)\n",
        "model =Model(input,outputs)\n",
        "optimizer = tf.keras.optimizers.Adam(learning_rate=.0004)\n",
        "model.compile(optimizer=optimizer, loss=\"categorical_crossentropy\", metrics=[\"accuracy\"])\n",
        "model.fit(train_dataset,epochs =3,steps_per_epoch=train_steps,validation_data=valid_dataset,validation_steps=valid_steps,callbacks=[Checkpoint] )\n",
        "optimizer = tf.keras.optimizers.SGD(learning_rate=.005,momentum=0.9)\n",
        "model.fit(train_dataset,epochs =5,steps_per_epoch=train_steps,validation_data=valid_dataset,validation_steps=valid_steps,callbacks=[Checkpoint] )"
      ],
      "execution_count": null,
      "outputs": []
    },
    {
      "cell_type": "code",
      "metadata": {
        "id": "5YbSURy4LRi8"
      },
      "source": [
        "import cv2 as cv\n",
        "img = cv.imread('/content/drive/MyDrive/LOOK into grain /Train/B_DISTO/0a24670e-1c33-49d5-a45d-1facfb743a7a.png')"
      ],
      "execution_count": null,
      "outputs": []
    },
    {
      "cell_type": "code",
      "metadata": {
        "id": "npRhbR7cR3wm"
      },
      "source": [
        "plt.imshow(img)"
      ],
      "execution_count": null,
      "outputs": []
    },
    {
      "cell_type": "code",
      "metadata": {
        "id": "3WspdQMfR8P8"
      },
      "source": [
        "model.save('/content/drive/MyDrive/classification/',save_format='tf')\n"
      ],
      "execution_count": null,
      "outputs": []
    },
    {
      "cell_type": "code",
      "metadata": {
        "id": "CISGll74bgBx"
      },
      "source": [
        ""
      ],
      "execution_count": null,
      "outputs": []
    }
  ]
}